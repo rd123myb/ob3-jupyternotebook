{
 "cells": [
  {
   "cell_type": "markdown",
   "metadata": {},
   "source": [
    "## SET UP"
   ]
  },
  {
   "cell_type": "code",
   "execution_count": 3,
   "metadata": {},
   "outputs": [],
   "source": [
    "#GET DATA FROM CASSANDRA AS DATAFRAME\n",
    "from queries import make_queries_get_df\n",
    "\n",
    "#FOR MANIPULATING DATAFRAME\n",
    "import pandas as pd\n",
    "\n",
    "#FOR MAKING QUICK CHARTS\n",
    "import chart_helper\n",
    "\n",
    "#PLOTTING (THIS IS OPTIONAL IF YOU WISH TO TWEAK A CHART FURTHER)\n",
    "import plotly.express as px"
   ]
  },
  {
   "cell_type": "markdown",
   "metadata": {},
   "source": [
    "## 1st Example: Total File Usage Across All Courses\n",
    "\n",
    "The following query can be used to get an overview of file usage across different courses. If needed, the table can also add an extra layer of grouping such as department and university."
   ]
  },
  {
   "cell_type": "markdown",
   "metadata": {},
   "source": [
    "### Step 1: Get the Data from Cassandra\n",
    "\n",
    "Notice that Python only transforms the result into a table and visualise it into a sunburst chart, as the data is already prepared by Cassandra.  \n",
    "\n",
    "The actual query can be seen in the *string* argument passed onto the make_queries_get_df() function."
   ]
  },
  {
   "cell_type": "code",
   "execution_count": 4,
   "metadata": {},
   "outputs": [],
   "source": [
    "# get data for file usage\n",
    "\n",
    "file_usage_df = make_queries_get_df('''\n",
    "SELECT course_id, paper_id, document_id, type, SUM(size) as total_file_usage_in_KB\n",
    "FROM component\n",
    "GROUP BY course_id, paper_id, document_id, type;\n",
    "''')"
   ]
  },
  {
   "cell_type": "code",
   "execution_count": 10,
   "metadata": {},
   "outputs": [
    {
     "output_type": "display_data",
     "data": {
      "application/vnd.plotly.v1+json": {
       "config": {
        "plotlyServerURL": "https://plot.ly"
       },
       "data": [
        {
         "branchvalues": "total",
         "domain": {
          "x": [
           0,
           1
          ],
          "y": [
           0,
           1
          ]
         },
         "hovertemplate": "labels=%{label}<br>file_usage_in_mb=%{value}<br>parent=%{parent}<br>id=%{id}<extra></extra>",
         "ids": [
          "courseA/paperA1/docA11/attachment",
          "courseA/paperA1/docA12/attachment",
          "courseA/paperA1/docA13/attachment",
          "courseA/paperA2/docA21/attachment",
          "courseA/paperA2/docA22/attachment",
          "courseA/paperA2/docA23/attachment",
          "courseB/paperB1/docB11/attachment",
          "courseB/paperB1/docB12/attachment",
          "courseB/paperB1/docB13/attachment",
          "courseB/paperB2/docB21/attachment",
          "courseB/paperB2/docB22/attachment",
          "courseB/paperB2/docB23/attachment",
          "courseC/paperC1/docC21/attachment",
          "courseC/paperC2/docC21/attachment",
          "courseC/paperC1/docC22/attachment",
          "courseC/paperC2/docC22/attachment",
          "courseC/paperC1/docC23/attachment",
          "courseC/paperC2/docC23/attachment",
          "courseA/paperA1/docA11/audio",
          "courseA/paperA1/docA12/audio",
          "courseA/paperA1/docA13/audio",
          "courseA/paperA2/docA21/audio",
          "courseA/paperA2/docA22/audio",
          "courseA/paperA2/docA23/audio",
          "courseB/paperB1/docB11/audio",
          "courseB/paperB1/docB12/audio",
          "courseB/paperB1/docB13/audio",
          "courseB/paperB2/docB21/audio",
          "courseB/paperB2/docB22/audio",
          "courseB/paperB2/docB23/audio",
          "courseC/paperC1/docC21/audio",
          "courseC/paperC2/docC21/audio",
          "courseC/paperC1/docC22/audio",
          "courseC/paperC2/docC22/audio",
          "courseC/paperC1/docC23/audio",
          "courseC/paperC2/docC23/audio",
          "courseA/paperA1/docA11/comment",
          "courseA/paperA1/docA12/comment",
          "courseA/paperA1/docA13/comment",
          "courseA/paperA2/docA21/comment",
          "courseA/paperA2/docA22/comment",
          "courseA/paperA2/docA23/comment",
          "courseB/paperB1/docB11/comment",
          "courseB/paperB1/docB12/comment",
          "courseB/paperB1/docB13/comment",
          "courseB/paperB2/docB21/comment",
          "courseB/paperB2/docB22/comment",
          "courseB/paperB2/docB23/comment",
          "courseC/paperC1/docC21/comment",
          "courseC/paperC2/docC21/comment",
          "courseC/paperC1/docC22/comment",
          "courseC/paperC2/docC22/comment",
          "courseC/paperC1/docC23/comment",
          "courseC/paperC2/docC23/comment",
          "courseA/paperA1/docA11/discussion",
          "courseA/paperA1/docA12/discussion",
          "courseA/paperA1/docA13/discussion",
          "courseA/paperA2/docA21/discussion",
          "courseA/paperA2/docA22/discussion",
          "courseA/paperA2/docA23/discussion",
          "courseB/paperB1/docB11/discussion",
          "courseB/paperB1/docB12/discussion",
          "courseB/paperB1/docB13/discussion",
          "courseB/paperB2/docB21/discussion",
          "courseB/paperB2/docB22/discussion",
          "courseB/paperB2/docB23/discussion",
          "courseC/paperC1/docC21/discussion",
          "courseC/paperC2/docC21/discussion",
          "courseC/paperC1/docC22/discussion",
          "courseC/paperC2/docC22/discussion",
          "courseC/paperC1/docC23/discussion",
          "courseC/paperC2/docC23/discussion",
          "courseA/paperA1/docA11/image",
          "courseA/paperA1/docA12/image",
          "courseA/paperA1/docA13/image",
          "courseA/paperA2/docA21/image",
          "courseA/paperA2/docA22/image",
          "courseA/paperA2/docA23/image",
          "courseB/paperB1/docB11/image",
          "courseB/paperB1/docB12/image",
          "courseB/paperB1/docB13/image",
          "courseB/paperB2/docB21/image",
          "courseB/paperB2/docB22/image",
          "courseB/paperB2/docB23/image",
          "courseC/paperC1/docC21/image",
          "courseC/paperC2/docC21/image",
          "courseC/paperC1/docC22/image",
          "courseC/paperC2/docC22/image",
          "courseC/paperC1/docC23/image",
          "courseC/paperC2/docC23/image",
          "courseA/paperA1/docA11/paragraph",
          "courseA/paperA1/docA12/paragraph",
          "courseA/paperA1/docA13/paragraph",
          "courseA/paperA2/docA21/paragraph",
          "courseA/paperA2/docA22/paragraph",
          "courseA/paperA2/docA23/paragraph",
          "courseB/paperB1/docB11/paragraph",
          "courseB/paperB1/docB12/paragraph",
          "courseB/paperB1/docB13/paragraph",
          "courseB/paperB2/docB21/paragraph",
          "courseB/paperB2/docB22/paragraph",
          "courseB/paperB2/docB23/paragraph",
          "courseC/paperC1/docC21/paragraph",
          "courseC/paperC2/docC21/paragraph",
          "courseC/paperC1/docC22/paragraph",
          "courseC/paperC2/docC22/paragraph",
          "courseC/paperC1/docC23/paragraph",
          "courseC/paperC2/docC23/paragraph",
          "courseA/paperA1/docA11/video",
          "courseA/paperA1/docA12/video",
          "courseA/paperA1/docA13/video",
          "courseA/paperA2/docA21/video",
          "courseA/paperA2/docA22/video",
          "courseA/paperA2/docA23/video",
          "courseB/paperB1/docB11/video",
          "courseB/paperB1/docB12/video",
          "courseB/paperB1/docB13/video",
          "courseB/paperB2/docB21/video",
          "courseB/paperB2/docB22/video",
          "courseB/paperB2/docB23/video",
          "courseC/paperC1/docC21/video",
          "courseC/paperC2/docC21/video",
          "courseC/paperC1/docC22/video",
          "courseC/paperC2/docC22/video",
          "courseC/paperC1/docC23/video",
          "courseC/paperC2/docC23/video",
          "courseA/paperA1/docA11",
          "courseA/paperA1/docA12",
          "courseA/paperA1/docA13",
          "courseA/paperA2/docA21",
          "courseA/paperA2/docA22",
          "courseA/paperA2/docA23",
          "courseB/paperB1/docB11",
          "courseB/paperB1/docB12",
          "courseB/paperB1/docB13",
          "courseB/paperB2/docB21",
          "courseB/paperB2/docB22",
          "courseB/paperB2/docB23",
          "courseC/paperC1/docC21",
          "courseC/paperC2/docC21",
          "courseC/paperC1/docC22",
          "courseC/paperC2/docC22",
          "courseC/paperC1/docC23",
          "courseC/paperC2/docC23",
          "courseA/paperA1",
          "courseA/paperA2",
          "courseB/paperB1",
          "courseB/paperB2",
          "courseC/paperC1",
          "courseC/paperC2",
          "courseA",
          "courseB",
          "courseC"
         ],
         "labels": [
          "attachment",
          "attachment",
          "attachment",
          "attachment",
          "attachment",
          "attachment",
          "attachment",
          "attachment",
          "attachment",
          "attachment",
          "attachment",
          "attachment",
          "attachment",
          "attachment",
          "attachment",
          "attachment",
          "attachment",
          "attachment",
          "audio",
          "audio",
          "audio",
          "audio",
          "audio",
          "audio",
          "audio",
          "audio",
          "audio",
          "audio",
          "audio",
          "audio",
          "audio",
          "audio",
          "audio",
          "audio",
          "audio",
          "audio",
          "comment",
          "comment",
          "comment",
          "comment",
          "comment",
          "comment",
          "comment",
          "comment",
          "comment",
          "comment",
          "comment",
          "comment",
          "comment",
          "comment",
          "comment",
          "comment",
          "comment",
          "comment",
          "discussion",
          "discussion",
          "discussion",
          "discussion",
          "discussion",
          "discussion",
          "discussion",
          "discussion",
          "discussion",
          "discussion",
          "discussion",
          "discussion",
          "discussion",
          "discussion",
          "discussion",
          "discussion",
          "discussion",
          "discussion",
          "image",
          "image",
          "image",
          "image",
          "image",
          "image",
          "image",
          "image",
          "image",
          "image",
          "image",
          "image",
          "image",
          "image",
          "image",
          "image",
          "image",
          "image",
          "paragraph",
          "paragraph",
          "paragraph",
          "paragraph",
          "paragraph",
          "paragraph",
          "paragraph",
          "paragraph",
          "paragraph",
          "paragraph",
          "paragraph",
          "paragraph",
          "paragraph",
          "paragraph",
          "paragraph",
          "paragraph",
          "paragraph",
          "paragraph",
          "video",
          "video",
          "video",
          "video",
          "video",
          "video",
          "video",
          "video",
          "video",
          "video",
          "video",
          "video",
          "video",
          "video",
          "video",
          "video",
          "video",
          "video",
          "docA11",
          "docA12",
          "docA13",
          "docA21",
          "docA22",
          "docA23",
          "docB11",
          "docB12",
          "docB13",
          "docB21",
          "docB22",
          "docB23",
          "docC21",
          "docC21",
          "docC22",
          "docC22",
          "docC23",
          "docC23",
          "paperA1",
          "paperA2",
          "paperB1",
          "paperB2",
          "paperC1",
          "paperC2",
          "courseA",
          "courseB",
          "courseC"
         ],
         "name": "",
         "parents": [
          "courseA/paperA1/docA11",
          "courseA/paperA1/docA12",
          "courseA/paperA1/docA13",
          "courseA/paperA2/docA21",
          "courseA/paperA2/docA22",
          "courseA/paperA2/docA23",
          "courseB/paperB1/docB11",
          "courseB/paperB1/docB12",
          "courseB/paperB1/docB13",
          "courseB/paperB2/docB21",
          "courseB/paperB2/docB22",
          "courseB/paperB2/docB23",
          "courseC/paperC1/docC21",
          "courseC/paperC2/docC21",
          "courseC/paperC1/docC22",
          "courseC/paperC2/docC22",
          "courseC/paperC1/docC23",
          "courseC/paperC2/docC23",
          "courseA/paperA1/docA11",
          "courseA/paperA1/docA12",
          "courseA/paperA1/docA13",
          "courseA/paperA2/docA21",
          "courseA/paperA2/docA22",
          "courseA/paperA2/docA23",
          "courseB/paperB1/docB11",
          "courseB/paperB1/docB12",
          "courseB/paperB1/docB13",
          "courseB/paperB2/docB21",
          "courseB/paperB2/docB22",
          "courseB/paperB2/docB23",
          "courseC/paperC1/docC21",
          "courseC/paperC2/docC21",
          "courseC/paperC1/docC22",
          "courseC/paperC2/docC22",
          "courseC/paperC1/docC23",
          "courseC/paperC2/docC23",
          "courseA/paperA1/docA11",
          "courseA/paperA1/docA12",
          "courseA/paperA1/docA13",
          "courseA/paperA2/docA21",
          "courseA/paperA2/docA22",
          "courseA/paperA2/docA23",
          "courseB/paperB1/docB11",
          "courseB/paperB1/docB12",
          "courseB/paperB1/docB13",
          "courseB/paperB2/docB21",
          "courseB/paperB2/docB22",
          "courseB/paperB2/docB23",
          "courseC/paperC1/docC21",
          "courseC/paperC2/docC21",
          "courseC/paperC1/docC22",
          "courseC/paperC2/docC22",
          "courseC/paperC1/docC23",
          "courseC/paperC2/docC23",
          "courseA/paperA1/docA11",
          "courseA/paperA1/docA12",
          "courseA/paperA1/docA13",
          "courseA/paperA2/docA21",
          "courseA/paperA2/docA22",
          "courseA/paperA2/docA23",
          "courseB/paperB1/docB11",
          "courseB/paperB1/docB12",
          "courseB/paperB1/docB13",
          "courseB/paperB2/docB21",
          "courseB/paperB2/docB22",
          "courseB/paperB2/docB23",
          "courseC/paperC1/docC21",
          "courseC/paperC2/docC21",
          "courseC/paperC1/docC22",
          "courseC/paperC2/docC22",
          "courseC/paperC1/docC23",
          "courseC/paperC2/docC23",
          "courseA/paperA1/docA11",
          "courseA/paperA1/docA12",
          "courseA/paperA1/docA13",
          "courseA/paperA2/docA21",
          "courseA/paperA2/docA22",
          "courseA/paperA2/docA23",
          "courseB/paperB1/docB11",
          "courseB/paperB1/docB12",
          "courseB/paperB1/docB13",
          "courseB/paperB2/docB21",
          "courseB/paperB2/docB22",
          "courseB/paperB2/docB23",
          "courseC/paperC1/docC21",
          "courseC/paperC2/docC21",
          "courseC/paperC1/docC22",
          "courseC/paperC2/docC22",
          "courseC/paperC1/docC23",
          "courseC/paperC2/docC23",
          "courseA/paperA1/docA11",
          "courseA/paperA1/docA12",
          "courseA/paperA1/docA13",
          "courseA/paperA2/docA21",
          "courseA/paperA2/docA22",
          "courseA/paperA2/docA23",
          "courseB/paperB1/docB11",
          "courseB/paperB1/docB12",
          "courseB/paperB1/docB13",
          "courseB/paperB2/docB21",
          "courseB/paperB2/docB22",
          "courseB/paperB2/docB23",
          "courseC/paperC1/docC21",
          "courseC/paperC2/docC21",
          "courseC/paperC1/docC22",
          "courseC/paperC2/docC22",
          "courseC/paperC1/docC23",
          "courseC/paperC2/docC23",
          "courseA/paperA1/docA11",
          "courseA/paperA1/docA12",
          "courseA/paperA1/docA13",
          "courseA/paperA2/docA21",
          "courseA/paperA2/docA22",
          "courseA/paperA2/docA23",
          "courseB/paperB1/docB11",
          "courseB/paperB1/docB12",
          "courseB/paperB1/docB13",
          "courseB/paperB2/docB21",
          "courseB/paperB2/docB22",
          "courseB/paperB2/docB23",
          "courseC/paperC1/docC21",
          "courseC/paperC2/docC21",
          "courseC/paperC1/docC22",
          "courseC/paperC2/docC22",
          "courseC/paperC1/docC23",
          "courseC/paperC2/docC23",
          "courseA/paperA1",
          "courseA/paperA1",
          "courseA/paperA1",
          "courseA/paperA2",
          "courseA/paperA2",
          "courseA/paperA2",
          "courseB/paperB1",
          "courseB/paperB1",
          "courseB/paperB1",
          "courseB/paperB2",
          "courseB/paperB2",
          "courseB/paperB2",
          "courseC/paperC1",
          "courseC/paperC2",
          "courseC/paperC1",
          "courseC/paperC2",
          "courseC/paperC1",
          "courseC/paperC2",
          "courseA",
          "courseA",
          "courseB",
          "courseB",
          "courseC",
          "courseC",
          "",
          "",
          ""
         ],
         "type": "sunburst",
         "values": [
          3.38,
          1.91,
          1.31,
          5.23,
          0.09,
          4.05,
          1.5,
          1.78,
          1.95,
          1.4,
          2.14,
          2.41,
          1.39,
          5.45,
          0.99,
          3.83,
          2.76,
          2.22,
          3.13,
          1.97,
          4.4,
          2.1,
          2.46,
          2.22,
          2.23,
          2.47,
          2.41,
          3.88,
          2.69,
          1.11,
          1.66,
          1.75,
          2.29,
          3.72,
          1.4,
          2.63,
          1.85,
          0.84,
          1.37,
          2.29,
          1.27,
          1.38,
          1.28,
          0.26,
          2.17,
          0.75,
          2.06,
          2.07,
          0.62,
          1.93,
          1.21,
          0.96,
          1.49,
          1.56,
          1.52,
          1.79,
          1.63,
          2.76,
          1.56,
          1.8,
          0.7,
          1.72,
          0.98,
          1.88,
          0.75,
          2.35,
          2.12,
          2.92,
          1.04,
          0.5,
          2.61,
          1.61,
          5,
          1.75,
          2.85,
          2.75,
          1.94,
          4.28,
          1.16,
          4.59,
          3.66,
          2.44,
          2.55,
          2.36,
          1.25,
          2.87,
          2.11,
          2.32,
          2.68,
          2.13,
          1.36,
          0.86,
          4.07,
          1.66,
          1.72,
          1.87,
          1.09,
          0.21,
          1.04,
          1.55,
          1.44,
          2.26,
          1.01,
          1.58,
          1.75,
          1.32,
          1.01,
          1.11,
          3.33,
          1.59,
          1.82,
          5.38,
          3.94,
          3.13,
          4.27,
          2.2,
          2.97,
          4.59,
          3.27,
          2.31,
          2.3,
          2.85,
          3.16,
          2.04,
          2.84,
          2.65,
          19.57,
          10.709999999999999,
          17.45,
          22.169999999999998,
          12.98,
          18.73,
          12.23,
          13.23,
          15.180000000000001,
          16.490000000000002,
          14.9,
          14.87,
          10.350000000000001,
          19.35,
          12.55,
          14.690000000000001,
          14.79,
          13.909999999999998,
          47.73,
          53.879999999999995,
          40.64,
          46.25999999999999,
          37.69,
          47.949999999999996,
          101.60999999999999,
          86.9,
          85.64
         ]
        }
       ],
       "layout": {
        "legend": {
         "tracegroupgap": 0
        },
        "margin": {
         "t": 60
        },
        "template": {
         "data": {
          "bar": [
           {
            "error_x": {
             "color": "#2a3f5f"
            },
            "error_y": {
             "color": "#2a3f5f"
            },
            "marker": {
             "line": {
              "color": "#E5ECF6",
              "width": 0.5
             }
            },
            "type": "bar"
           }
          ],
          "barpolar": [
           {
            "marker": {
             "line": {
              "color": "#E5ECF6",
              "width": 0.5
             }
            },
            "type": "barpolar"
           }
          ],
          "carpet": [
           {
            "aaxis": {
             "endlinecolor": "#2a3f5f",
             "gridcolor": "white",
             "linecolor": "white",
             "minorgridcolor": "white",
             "startlinecolor": "#2a3f5f"
            },
            "baxis": {
             "endlinecolor": "#2a3f5f",
             "gridcolor": "white",
             "linecolor": "white",
             "minorgridcolor": "white",
             "startlinecolor": "#2a3f5f"
            },
            "type": "carpet"
           }
          ],
          "choropleth": [
           {
            "colorbar": {
             "outlinewidth": 0,
             "ticks": ""
            },
            "type": "choropleth"
           }
          ],
          "contour": [
           {
            "colorbar": {
             "outlinewidth": 0,
             "ticks": ""
            },
            "colorscale": [
             [
              0,
              "#0d0887"
             ],
             [
              0.1111111111111111,
              "#46039f"
             ],
             [
              0.2222222222222222,
              "#7201a8"
             ],
             [
              0.3333333333333333,
              "#9c179e"
             ],
             [
              0.4444444444444444,
              "#bd3786"
             ],
             [
              0.5555555555555556,
              "#d8576b"
             ],
             [
              0.6666666666666666,
              "#ed7953"
             ],
             [
              0.7777777777777778,
              "#fb9f3a"
             ],
             [
              0.8888888888888888,
              "#fdca26"
             ],
             [
              1,
              "#f0f921"
             ]
            ],
            "type": "contour"
           }
          ],
          "contourcarpet": [
           {
            "colorbar": {
             "outlinewidth": 0,
             "ticks": ""
            },
            "type": "contourcarpet"
           }
          ],
          "heatmap": [
           {
            "colorbar": {
             "outlinewidth": 0,
             "ticks": ""
            },
            "colorscale": [
             [
              0,
              "#0d0887"
             ],
             [
              0.1111111111111111,
              "#46039f"
             ],
             [
              0.2222222222222222,
              "#7201a8"
             ],
             [
              0.3333333333333333,
              "#9c179e"
             ],
             [
              0.4444444444444444,
              "#bd3786"
             ],
             [
              0.5555555555555556,
              "#d8576b"
             ],
             [
              0.6666666666666666,
              "#ed7953"
             ],
             [
              0.7777777777777778,
              "#fb9f3a"
             ],
             [
              0.8888888888888888,
              "#fdca26"
             ],
             [
              1,
              "#f0f921"
             ]
            ],
            "type": "heatmap"
           }
          ],
          "heatmapgl": [
           {
            "colorbar": {
             "outlinewidth": 0,
             "ticks": ""
            },
            "colorscale": [
             [
              0,
              "#0d0887"
             ],
             [
              0.1111111111111111,
              "#46039f"
             ],
             [
              0.2222222222222222,
              "#7201a8"
             ],
             [
              0.3333333333333333,
              "#9c179e"
             ],
             [
              0.4444444444444444,
              "#bd3786"
             ],
             [
              0.5555555555555556,
              "#d8576b"
             ],
             [
              0.6666666666666666,
              "#ed7953"
             ],
             [
              0.7777777777777778,
              "#fb9f3a"
             ],
             [
              0.8888888888888888,
              "#fdca26"
             ],
             [
              1,
              "#f0f921"
             ]
            ],
            "type": "heatmapgl"
           }
          ],
          "histogram": [
           {
            "marker": {
             "colorbar": {
              "outlinewidth": 0,
              "ticks": ""
             }
            },
            "type": "histogram"
           }
          ],
          "histogram2d": [
           {
            "colorbar": {
             "outlinewidth": 0,
             "ticks": ""
            },
            "colorscale": [
             [
              0,
              "#0d0887"
             ],
             [
              0.1111111111111111,
              "#46039f"
             ],
             [
              0.2222222222222222,
              "#7201a8"
             ],
             [
              0.3333333333333333,
              "#9c179e"
             ],
             [
              0.4444444444444444,
              "#bd3786"
             ],
             [
              0.5555555555555556,
              "#d8576b"
             ],
             [
              0.6666666666666666,
              "#ed7953"
             ],
             [
              0.7777777777777778,
              "#fb9f3a"
             ],
             [
              0.8888888888888888,
              "#fdca26"
             ],
             [
              1,
              "#f0f921"
             ]
            ],
            "type": "histogram2d"
           }
          ],
          "histogram2dcontour": [
           {
            "colorbar": {
             "outlinewidth": 0,
             "ticks": ""
            },
            "colorscale": [
             [
              0,
              "#0d0887"
             ],
             [
              0.1111111111111111,
              "#46039f"
             ],
             [
              0.2222222222222222,
              "#7201a8"
             ],
             [
              0.3333333333333333,
              "#9c179e"
             ],
             [
              0.4444444444444444,
              "#bd3786"
             ],
             [
              0.5555555555555556,
              "#d8576b"
             ],
             [
              0.6666666666666666,
              "#ed7953"
             ],
             [
              0.7777777777777778,
              "#fb9f3a"
             ],
             [
              0.8888888888888888,
              "#fdca26"
             ],
             [
              1,
              "#f0f921"
             ]
            ],
            "type": "histogram2dcontour"
           }
          ],
          "mesh3d": [
           {
            "colorbar": {
             "outlinewidth": 0,
             "ticks": ""
            },
            "type": "mesh3d"
           }
          ],
          "parcoords": [
           {
            "line": {
             "colorbar": {
              "outlinewidth": 0,
              "ticks": ""
             }
            },
            "type": "parcoords"
           }
          ],
          "pie": [
           {
            "automargin": true,
            "type": "pie"
           }
          ],
          "scatter": [
           {
            "marker": {
             "colorbar": {
              "outlinewidth": 0,
              "ticks": ""
             }
            },
            "type": "scatter"
           }
          ],
          "scatter3d": [
           {
            "line": {
             "colorbar": {
              "outlinewidth": 0,
              "ticks": ""
             }
            },
            "marker": {
             "colorbar": {
              "outlinewidth": 0,
              "ticks": ""
             }
            },
            "type": "scatter3d"
           }
          ],
          "scattercarpet": [
           {
            "marker": {
             "colorbar": {
              "outlinewidth": 0,
              "ticks": ""
             }
            },
            "type": "scattercarpet"
           }
          ],
          "scattergeo": [
           {
            "marker": {
             "colorbar": {
              "outlinewidth": 0,
              "ticks": ""
             }
            },
            "type": "scattergeo"
           }
          ],
          "scattergl": [
           {
            "marker": {
             "colorbar": {
              "outlinewidth": 0,
              "ticks": ""
             }
            },
            "type": "scattergl"
           }
          ],
          "scattermapbox": [
           {
            "marker": {
             "colorbar": {
              "outlinewidth": 0,
              "ticks": ""
             }
            },
            "type": "scattermapbox"
           }
          ],
          "scatterpolar": [
           {
            "marker": {
             "colorbar": {
              "outlinewidth": 0,
              "ticks": ""
             }
            },
            "type": "scatterpolar"
           }
          ],
          "scatterpolargl": [
           {
            "marker": {
             "colorbar": {
              "outlinewidth": 0,
              "ticks": ""
             }
            },
            "type": "scatterpolargl"
           }
          ],
          "scatterternary": [
           {
            "marker": {
             "colorbar": {
              "outlinewidth": 0,
              "ticks": ""
             }
            },
            "type": "scatterternary"
           }
          ],
          "surface": [
           {
            "colorbar": {
             "outlinewidth": 0,
             "ticks": ""
            },
            "colorscale": [
             [
              0,
              "#0d0887"
             ],
             [
              0.1111111111111111,
              "#46039f"
             ],
             [
              0.2222222222222222,
              "#7201a8"
             ],
             [
              0.3333333333333333,
              "#9c179e"
             ],
             [
              0.4444444444444444,
              "#bd3786"
             ],
             [
              0.5555555555555556,
              "#d8576b"
             ],
             [
              0.6666666666666666,
              "#ed7953"
             ],
             [
              0.7777777777777778,
              "#fb9f3a"
             ],
             [
              0.8888888888888888,
              "#fdca26"
             ],
             [
              1,
              "#f0f921"
             ]
            ],
            "type": "surface"
           }
          ],
          "table": [
           {
            "cells": {
             "fill": {
              "color": "#EBF0F8"
             },
             "line": {
              "color": "white"
             }
            },
            "header": {
             "fill": {
              "color": "#C8D4E3"
             },
             "line": {
              "color": "white"
             }
            },
            "type": "table"
           }
          ]
         },
         "layout": {
          "annotationdefaults": {
           "arrowcolor": "#2a3f5f",
           "arrowhead": 0,
           "arrowwidth": 1
          },
          "coloraxis": {
           "colorbar": {
            "outlinewidth": 0,
            "ticks": ""
           }
          },
          "colorscale": {
           "diverging": [
            [
             0,
             "#8e0152"
            ],
            [
             0.1,
             "#c51b7d"
            ],
            [
             0.2,
             "#de77ae"
            ],
            [
             0.3,
             "#f1b6da"
            ],
            [
             0.4,
             "#fde0ef"
            ],
            [
             0.5,
             "#f7f7f7"
            ],
            [
             0.6,
             "#e6f5d0"
            ],
            [
             0.7,
             "#b8e186"
            ],
            [
             0.8,
             "#7fbc41"
            ],
            [
             0.9,
             "#4d9221"
            ],
            [
             1,
             "#276419"
            ]
           ],
           "sequential": [
            [
             0,
             "#0d0887"
            ],
            [
             0.1111111111111111,
             "#46039f"
            ],
            [
             0.2222222222222222,
             "#7201a8"
            ],
            [
             0.3333333333333333,
             "#9c179e"
            ],
            [
             0.4444444444444444,
             "#bd3786"
            ],
            [
             0.5555555555555556,
             "#d8576b"
            ],
            [
             0.6666666666666666,
             "#ed7953"
            ],
            [
             0.7777777777777778,
             "#fb9f3a"
            ],
            [
             0.8888888888888888,
             "#fdca26"
            ],
            [
             1,
             "#f0f921"
            ]
           ],
           "sequentialminus": [
            [
             0,
             "#0d0887"
            ],
            [
             0.1111111111111111,
             "#46039f"
            ],
            [
             0.2222222222222222,
             "#7201a8"
            ],
            [
             0.3333333333333333,
             "#9c179e"
            ],
            [
             0.4444444444444444,
             "#bd3786"
            ],
            [
             0.5555555555555556,
             "#d8576b"
            ],
            [
             0.6666666666666666,
             "#ed7953"
            ],
            [
             0.7777777777777778,
             "#fb9f3a"
            ],
            [
             0.8888888888888888,
             "#fdca26"
            ],
            [
             1,
             "#f0f921"
            ]
           ]
          },
          "colorway": [
           "#636efa",
           "#EF553B",
           "#00cc96",
           "#ab63fa",
           "#FFA15A",
           "#19d3f3",
           "#FF6692",
           "#B6E880",
           "#FF97FF",
           "#FECB52"
          ],
          "font": {
           "color": "#2a3f5f"
          },
          "geo": {
           "bgcolor": "white",
           "lakecolor": "white",
           "landcolor": "#E5ECF6",
           "showlakes": true,
           "showland": true,
           "subunitcolor": "white"
          },
          "hoverlabel": {
           "align": "left"
          },
          "hovermode": "closest",
          "mapbox": {
           "style": "light"
          },
          "paper_bgcolor": "white",
          "plot_bgcolor": "#E5ECF6",
          "polar": {
           "angularaxis": {
            "gridcolor": "white",
            "linecolor": "white",
            "ticks": ""
           },
           "bgcolor": "#E5ECF6",
           "radialaxis": {
            "gridcolor": "white",
            "linecolor": "white",
            "ticks": ""
           }
          },
          "scene": {
           "xaxis": {
            "backgroundcolor": "#E5ECF6",
            "gridcolor": "white",
            "gridwidth": 2,
            "linecolor": "white",
            "showbackground": true,
            "ticks": "",
            "zerolinecolor": "white"
           },
           "yaxis": {
            "backgroundcolor": "#E5ECF6",
            "gridcolor": "white",
            "gridwidth": 2,
            "linecolor": "white",
            "showbackground": true,
            "ticks": "",
            "zerolinecolor": "white"
           },
           "zaxis": {
            "backgroundcolor": "#E5ECF6",
            "gridcolor": "white",
            "gridwidth": 2,
            "linecolor": "white",
            "showbackground": true,
            "ticks": "",
            "zerolinecolor": "white"
           }
          },
          "shapedefaults": {
           "line": {
            "color": "#2a3f5f"
           }
          },
          "ternary": {
           "aaxis": {
            "gridcolor": "white",
            "linecolor": "white",
            "ticks": ""
           },
           "baxis": {
            "gridcolor": "white",
            "linecolor": "white",
            "ticks": ""
           },
           "bgcolor": "#E5ECF6",
           "caxis": {
            "gridcolor": "white",
            "linecolor": "white",
            "ticks": ""
           }
          },
          "title": {
           "x": 0.05
          },
          "xaxis": {
           "automargin": true,
           "gridcolor": "white",
           "linecolor": "white",
           "ticks": "",
           "title": {
            "standoff": 15
           },
           "zerolinecolor": "white",
           "zerolinewidth": 2
          },
          "yaxis": {
           "automargin": true,
           "gridcolor": "white",
           "linecolor": "white",
           "ticks": "",
           "title": {
            "standoff": 15
           },
           "zerolinecolor": "white",
           "zerolinewidth": 2
          }
         }
        }
       }
      }
     },
     "metadata": {}
    }
   ],
   "source": [
    "file_usage_in_mb = pd.DataFrame.copy(file_usage_df, deep=True)\n",
    "file_usage_in_mb['file_usage_in_mb'] = round(file_usage_in_mb['total_file_usage_in_kb']/1000, 2)\n",
    "file_usage_in_mb.drop(columns=['total_file_usage_in_kb'], inplace=True)\n",
    "\n",
    "#the quick_sunburst() function works as long as the columns are in the right order\n",
    "#something like: 1st layer > 2nd layer > ... > values_columns\n",
    "#for the chart in question: course > paper > doc > type > size\n",
    "file_usage_in_mb_fig = chart_helper.quick_sunburst(file_usage_in_mb)\n",
    "\n",
    "file_usage_in_mb_fig.show()\n",
    "\n",
    "file_usage_in_mb_fig.write_html('file_usage_in_mb.html', auto_open=True)"
   ]
  },
  {
   "cell_type": "markdown",
   "metadata": {},
   "source": [
    "## 2nd example: getting contributions by each individuals in a paper\n",
    "\n",
    "The below queries can be run to produce an instant breakdown of contributions by each student to each document in a paper. \n",
    "\n",
    "If an instructor's teaching multiple papers, similar queries can be made for each paper and they can be implemented as separate option from a drop-down menu.  "
   ]
  },
  {
   "cell_type": "markdown",
   "metadata": {},
   "source": [
    "### Step 1: Get Data as Dataframe from Cassandra\n",
    "\n",
    "The helper function *make_queries_get_df()* accepts a string of CQL statement as its argument.\n",
    "\n",
    "It hides the details of connecting to Cassandra and executing CQL query using Python.\n",
    "\n",
    "This means you can test out your CQL statement on Datastax Studio, and if you're happy with the result, you can simply copy and paste it into your Jupyter notebook.\n",
    "\n",
    "The returned data will be a dataframe, ready to be processed and visualised."
   ]
  },
  {
   "cell_type": "code",
   "execution_count": 12,
   "metadata": {},
   "outputs": [],
   "source": [
    "contribution_by_paperC1_df = make_queries_get_df('''\n",
    "SELECT paper_id, document_id, author_full_name, type, COUNT(type) as count\n",
    "FROM component\n",
    "WHERE course_id = 'courseC'\n",
    "AND paper_id = 'paperC1'\n",
    "GROUP BY document_id, type;\n",
    "''')\n"
   ]
  },
  {
   "cell_type": "markdown",
   "metadata": {},
   "source": [
    "Notice that the data's already sorted and grouped by Cassandra on the server side. This takes advantage of the design of the component table and does not force processing on the client side."
   ]
  },
  {
   "cell_type": "markdown",
   "metadata": {},
   "source": [
    "Similar to the 1st example, we use *quick_sunburst()* to visualise the received dataframe, and save it to an external html file."
   ]
  },
  {
   "cell_type": "code",
   "execution_count": 13,
   "metadata": {},
   "outputs": [],
   "source": [
    "contribution_by_paperC1_fig = chart_helper.quick_sunburst(contribution_by_paperC1_df)\n",
    "\n",
    "contribution_by_paperC1_fig.write_html('contribution_by_paperC1_fig.html', auto_open=True)"
   ]
  },
  {
   "cell_type": "code",
   "execution_count": null,
   "metadata": {},
   "outputs": [],
   "source": []
  }
 ],
 "metadata": {
  "language_info": {
   "codemirror_mode": {
    "name": "ipython",
    "version": 3
   },
   "file_extension": ".py",
   "mimetype": "text/x-python",
   "name": "python",
   "nbconvert_exporter": "python",
   "pygments_lexer": "ipython3",
   "version": "3.8.3-final"
  },
  "orig_nbformat": 2,
  "kernelspec": {
   "name": "python38364bit2021e240fa0b450c871765cfc61481f0",
   "display_name": "Python 3.8.3 64-bit"
  }
 },
 "nbformat": 4,
 "nbformat_minor": 2
}